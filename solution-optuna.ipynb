{
 "cells": [
  {
   "cell_type": "code",
   "execution_count": null,
   "outputs": [],
   "source": [
    "import numpy as np\n",
    "import optuna\n",
    "import pandas as pd\n",
    "import xgboost as xgb\n",
    "from sklearn.metrics import roc_auc_score\n",
    "from sklearn.model_selection import StratifiedKFold"
   ],
   "metadata": {
    "collapsed": false
   },
   "id": "5b00d1c9198c5bd7"
  },
  {
   "cell_type": "code",
   "execution_count": null,
   "outputs": [],
   "source": [
    "train_orig = pd.read_csv('./input/train.csv', index_col='id')\n",
    "test_orig = pd.read_csv('./input/test.csv', index_col='id')\n",
    "sample_submission = pd.read_csv('./input/sample_submission.csv')\n",
    "X_train_orig = pd.DataFrame(train_orig.drop(['defects'], axis=1))\n",
    "y_train_orig = pd.Series(train_orig.defects)\n",
    "X_train_log_orig = np.log1p(X_train_orig)\n",
    "X_test_log_orig = np.log1p(test_orig)"
   ],
   "metadata": {
    "collapsed": false
   },
   "id": "initial_id"
  },
  {
   "cell_type": "code",
   "execution_count": null,
   "outputs": [],
   "source": [
    "# Note: Run on google colab!\n",
    "# Define an objective function for Optuna\n",
    "def objective(trial):\n",
    "    params = {\n",
    "        'objective': 'binary:logistic',\n",
    "        'eval_metric': 'auc',\n",
    "        'booster': trial.suggest_categorical('booster', ['gbtree', 'gblinear', 'dart']),\n",
    "        'max_depth': trial.suggest_int('max_depth', 3, 10),\n",
    "        'learning_rate': trial.suggest_float('learning_rate', 0.01, 0.3, log=True),\n",
    "        'subsample': trial.suggest_float('subsample', 0.5, 1.0),\n",
    "        'colsample_bytree': trial.suggest_float('colsample_bytree', 0.6, 1.0),\n",
    "        'min_child_weight': trial.suggest_int('min_child_weight', 1, 10),\n",
    "        'lambda': trial.suggest_float('lambda', 0.1, 10.0),\n",
    "        'alpha': trial.suggest_float('alpha', 0.0, 10.0),\n",
    "        'gamma': trial.suggest_float('gamma', 0.0, 10.0),\n",
    "    }\n",
    "    # Initialize StratifiedKFold for cross-validation\n",
    "    n_splits = 5  # Number of folds\n",
    "    kf = StratifiedKFold(n_splits=n_splits, shuffle=True, random_state=42)\n",
    "\n",
    "    # Initialize an array to store cross-validated ROC AUC scores\n",
    "    roc_auc_scores = []\n",
    "\n",
    "    for train_idx, val_idx in kf.split(X_train_log_orig, y_train_orig):\n",
    "        X_train, X_val = X_train_log_orig.iloc[train_idx], X_train_log_orig.iloc[val_idx]\n",
    "        y_train, y_val = y_train_orig.iloc[train_idx], y_train_orig.iloc[val_idx]\n",
    "\n",
    "        dtrain = xgb.DMatrix(X_train, label=y_train)\n",
    "        dval = xgb.DMatrix(X_val, label=y_val)\n",
    "\n",
    "        # Train and evaluate the XGBoost model on each fold\n",
    "        bst = xgb.train(params, dtrain, evals=[(dval, 'validation')], verbose_eval=False, num_boost_round=100)\n",
    "        y_pred = bst.predict(dval)\n",
    "\n",
    "        # Calculate ROC AUC score for the fold and append it to the list\n",
    "        fold_roc_auc = roc_auc_score(y_val, y_pred)\n",
    "        roc_auc_scores.append(fold_roc_auc)\n",
    "\n",
    "    # Return the mean ROC AUC score across all folds\n",
    "    return np.mean(roc_auc_scores)\n",
    "\n",
    "\n",
    "# Create an Optuna study and optimize\n",
    "study = optuna.create_study(direction='maximize')\n",
    "study.optimize(objective, n_trials=100)\n",
    "\n",
    "# Print the best hyperparameters and ROC AUC score\n",
    "best_params = study.best_params\n",
    "best_roc_auc = study.best_value\n",
    "print(\"Best Hyperparameters:\", best_params)\n",
    "print(\"Best Mean ROC AUC Score:\", best_roc_auc)"
   ],
   "metadata": {
    "collapsed": false
   },
   "id": "595cba9895144f05"
  },
  {
   "cell_type": "code",
   "execution_count": null,
   "outputs": [],
   "source": [
    "# Use the found hyperparameters to train a model\n",
    "best_dtrain = xgb.DMatrix(X_train_log_orig, label=y_train_orig)\n",
    "best_model = xgb.train(best_params, best_dtrain, num_boost_round=100)\n",
    "\n",
    "# Make predictions on new data\n",
    "dtest = xgb.DMatrix(X_test_log_orig)\n",
    "y_pred_proba = best_model.predict(dtest)\n",
    "\n",
    "submission = pd.Series(data=y_pred_proba, index=test_orig.index, name='defects')\n",
    "submission.to_csv('solution-v2_6.csv')"
   ],
   "metadata": {
    "collapsed": false
   },
   "id": "15a8ceb6f2ab31ea"
  }
 ],
 "metadata": {
  "kernelspec": {
   "display_name": "Python 3",
   "language": "python",
   "name": "python3"
  },
  "language_info": {
   "codemirror_mode": {
    "name": "ipython",
    "version": 2
   },
   "file_extension": ".py",
   "mimetype": "text/x-python",
   "name": "python",
   "nbconvert_exporter": "python",
   "pygments_lexer": "ipython2",
   "version": "2.7.6"
  }
 },
 "nbformat": 4,
 "nbformat_minor": 5
}
