{
 "cells": [
  {
   "cell_type": "code",
   "execution_count": null,
   "id": "initial_id",
   "metadata": {
    "collapsed": true
   },
   "outputs": [],
   "source": [
    "import datetime\n",
    "\n",
    "import numpy as np\n",
    "import pandas as pd\n",
    "from sklearn.metrics import roc_auc_score\n",
    "from sklearn.model_selection import StratifiedKFold, GridSearchCV\n",
    "from sklearn.pipeline import Pipeline\n",
    "from xgboost import XGBClassifier"
   ]
  },
  {
   "cell_type": "code",
   "execution_count": null,
   "outputs": [],
   "source": [
    "result_list = []\n",
    "train_orig = pd.read_csv('./input/train.csv', index_col='id')\n",
    "test_orig = pd.read_csv('./input/test.csv', index_col='id')\n",
    "sample_submission = pd.read_csv('./input/sample_submission.csv')\n",
    "print(\"Original train ds:\")\n",
    "display(train_orig.head())\n",
    "print(\"Original test ds:\")\n",
    "display(test_orig.head())"
   ],
   "metadata": {
    "collapsed": false
   },
   "id": "174a0b4089daa91c"
  },
  {
   "cell_type": "code",
   "execution_count": null,
   "outputs": [],
   "source": [
    "print(f'Original train ds shape: {train_orig.shape}, contains missing values: {train_orig.isna().any().any()}')\n",
    "print(f'Original train ds contains duplicates: {train_orig.duplicated().any()}')\n",
    "print('Features with missing values:')\n",
    "missing_values_per_feature = train_orig.isna().sum()\n",
    "print(missing_values_per_feature[missing_values_per_feature > 0])\n",
    "\n",
    "print(f'Original test ds shape: {test_orig.shape}, contains missing values: {test_orig.isna().any().any()}')\n",
    "print(f'Original test ds contains duplicates: {test_orig.duplicated().any()}')"
   ],
   "metadata": {
    "collapsed": false
   },
   "id": "e9e4265dc4cfe2a1"
  },
  {
   "cell_type": "code",
   "execution_count": null,
   "outputs": [],
   "source": [
    "def cross_val(model, label):\n",
    "    \"\"\"Cross-validate the model with a StratifiedKFold\n",
    "    \n",
    "    The cross-validation score is printed and added to the global result_list\"\"\"\n",
    "    start_time = datetime.datetime.now()\n",
    "    kf = StratifiedKFold(shuffle=True, random_state=1)\n",
    "    oof = np.full(len(train_orig), np.nan)\n",
    "    auc_list = []\n",
    "    for fold, (idx_tr, idx_va) in enumerate(kf.split(train_orig, train_orig.defects)):\n",
    "        X_tr = train_orig.iloc[idx_tr]\n",
    "        X_va = train_orig.iloc[idx_va]\n",
    "        y_tr = X_tr.pop('defects')\n",
    "        y_va = X_va.pop('defects')\n",
    "        model.fit(X_tr, y_tr)\n",
    "        #         print(np.round(model[-1].coef_, 2), np.round(model[-1].intercept_, 2))\n",
    "        try:\n",
    "            y_va_pred = model.predict_proba(X_va)[:, 1]\n",
    "        except AttributeError:  # 'LinearSVC' object has no attribute 'predict_proba'\n",
    "            y_va_pred = model.decision_function(X_va)\n",
    "        oof[idx_va] = y_va_pred\n",
    "        auc = roc_auc_score(y_va, y_va_pred)\n",
    "        auc_list.append(auc)\n",
    "    auc = np.array(auc_list).mean()\n",
    "    execution_time = datetime.datetime.now() - start_time\n",
    "    print(f\"# AUC {auc:.5f}   time={str(execution_time)[-15:-7]}   {label}\")\n",
    "    result_list.append((auc, label, execution_time))\n",
    "\n",
    "    return auc"
   ],
   "metadata": {
    "collapsed": false
   },
   "id": "db5e353f2197ada4"
  },
  {
   "cell_type": "code",
   "execution_count": null,
   "outputs": [],
   "source": [
    "score_list = []\n",
    "for min_samples_leaf in [100, 150, 200, 250, 300]:\n",
    "    auc = cross_val(XGBClassifier(n_estimators=100,\n",
    "                                  min_samples_leaf=min_samples_leaf,\n",
    "                                  max_features=1.0,\n",
    "                                  random_state=42),\n",
    "                    f\"RF {min_samples_leaf=}\")\n",
    "    score_list.append((min_samples_leaf, auc))\n"
   ],
   "metadata": {
    "collapsed": false
   },
   "id": "e40ef611ab0f378"
  },
  {
   "cell_type": "code",
   "execution_count": null,
   "outputs": [],
   "source": [
    "pipeline = Pipeline([\n",
    "    ('classifier', XGBClassifier())\n",
    "])\n",
    "\n",
    "param_grid = {\n",
    "    'classifier__n_estimators': [100,300,500,700,900,1000,1200],\n",
    "    'classifier__max_depth': [2,3,4,5],\n",
    "    'classifier__learning_rate': [0.0025,0.005,0.01,0.02]\n",
    "}\n",
    "\n",
    "grid_search = GridSearchCV(estimator=pipeline, param_grid=param_grid, cv=5, n_jobs=1, verbose=2, error_score=\"raise\",\n",
    "                           scoring='roc_auc')\n",
    "\n",
    "grid_search.fit(train_orig.drop(['defects'], axis=1), train_orig.defects)\n",
    "\n",
    "print(\"Best hyperparameters found:\")\n",
    "print(grid_search.best_params_)\n",
    "print(\"Best cross-validation accuracy score: {:.2f}\".format(grid_search.best_score_))\n",
    "\n",
    "# Evaluate the best model on the test data\n",
    "best_model = grid_search.best_estimator_"
   ],
   "metadata": {
    "collapsed": false
   },
   "id": "bc8f622244113f6c"
  },
  {
   "cell_type": "code",
   "execution_count": 10,
   "outputs": [
    {
     "name": "stderr",
     "output_type": "stream",
     "text": [
      "C:\\Users\\lklen\\Projects\\codeveo\\ML\\kaggle\\ps_se3_ep23\\venv\\lib\\site-packages\\xgboost\\data.py:335: FutureWarning: is_sparse is deprecated and will be removed in a future version. Check `isinstance(dtype, pd.SparseDtype)` instead.\n",
      "  if is_sparse(dtype):\n",
      "C:\\Users\\lklen\\Projects\\codeveo\\ML\\kaggle\\ps_se3_ep23\\venv\\lib\\site-packages\\xgboost\\data.py:338: FutureWarning: is_categorical_dtype is deprecated and will be removed in a future version. Use isinstance(dtype, CategoricalDtype) instead\n",
      "  is_categorical_dtype(dtype) or is_pa_ext_categorical_dtype(dtype)\n",
      "C:\\Users\\lklen\\Projects\\codeveo\\ML\\kaggle\\ps_se3_ep23\\venv\\lib\\site-packages\\xgboost\\data.py:384: FutureWarning: is_categorical_dtype is deprecated and will be removed in a future version. Use isinstance(dtype, CategoricalDtype) instead\n",
      "  if is_categorical_dtype(dtype):\n",
      "C:\\Users\\lklen\\Projects\\codeveo\\ML\\kaggle\\ps_se3_ep23\\venv\\lib\\site-packages\\xgboost\\data.py:359: FutureWarning: is_categorical_dtype is deprecated and will be removed in a future version. Use isinstance(dtype, CategoricalDtype) instead\n",
      "  return is_int or is_bool or is_float or is_categorical_dtype(dtype)\n"
     ]
    }
   ],
   "source": [
    "# result processing\n",
    "y_pred = best_model.predict_proba(test_orig)[:,1]\n",
    "submission = pd.Series(y_pred, index=test_orig.index, name='defects')\n",
    "submission.to_csv('solution-v1_0.csv')\n",
    "# result = pd.concat([test_orig['id'], pd.DataFrame(final_prediction)], axis=1)\n",
    "# result.columns = ['id', 'outcome']\n",
    "# result.to_csv('solution-v1_0.csv', index=False)"
   ],
   "metadata": {
    "collapsed": false,
    "ExecuteTime": {
     "end_time": "2023-10-08T09:45:46.133571300Z",
     "start_time": "2023-10-08T09:45:45.873140Z"
    }
   },
   "id": "f8894df49896a324"
  },
  {
   "cell_type": "code",
   "execution_count": null,
   "outputs": [],
   "source": [],
   "metadata": {
    "collapsed": false
   },
   "id": "a149070f07750747"
  }
 ],
 "metadata": {
  "kernelspec": {
   "display_name": "Python 3",
   "language": "python",
   "name": "python3"
  },
  "language_info": {
   "codemirror_mode": {
    "name": "ipython",
    "version": 2
   },
   "file_extension": ".py",
   "mimetype": "text/x-python",
   "name": "python",
   "nbconvert_exporter": "python",
   "pygments_lexer": "ipython2",
   "version": "2.7.6"
  }
 },
 "nbformat": 4,
 "nbformat_minor": 5
}
