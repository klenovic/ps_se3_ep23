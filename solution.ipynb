{
 "cells": [
  {
   "cell_type": "code",
   "execution_count": null,
   "id": "initial_id",
   "metadata": {
    "collapsed": true
   },
   "outputs": [],
   "source": [
    "import pandas as pd\n",
    "from sklearn.model_selection import GridSearchCV\n",
    "from sklearn.pipeline import Pipeline\n",
    "from xgboost import XGBClassifier"
   ]
  },
  {
   "cell_type": "code",
   "execution_count": null,
   "outputs": [],
   "source": [
    "train_orig = pd.read_csv('./input/train.csv', index_col='id')\n",
    "test_orig = pd.read_csv('./input/test.csv', index_col='id')\n",
    "sample_submission = pd.read_csv('./input/sample_submission.csv')\n",
    "print(\"Original train ds:\")\n",
    "display(train_orig.head())\n",
    "print(\"Original test ds:\")\n",
    "display(test_orig.head())"
   ],
   "metadata": {
    "collapsed": false
   },
   "id": "174a0b4089daa91c"
  },
  {
   "cell_type": "code",
   "execution_count": 16,
   "outputs": [
    {
     "name": "stdout",
     "output_type": "stream",
     "text": [
      "Original train ds shape: (101763, 22), contains missing values: False\n",
      "Original train ds contains duplicates: False\n",
      "Original test ds shape: (67842, 21), contains missing values: False\n",
      "Original test ds contains duplicates: False\n"
     ]
    }
   ],
   "source": [
    "print(f'Original train ds shape: {train_orig.shape}, contains missing values: {train_orig.isna().any().any()}')\n",
    "print(f'Original train ds contains duplicates: {train_orig.duplicated().any()}')\n",
    "missing_values_per_feature = train_orig.isna().sum()\n",
    "if missing_values_per_feature.sum() > 0:\n",
    "    print('Features with missing values:')\n",
    "    print(missing_values_per_feature[missing_values_per_feature > 0])\n",
    "\n",
    "print(f'Original test ds shape: {test_orig.shape}, contains missing values: {test_orig.isna().any().any()}')\n",
    "print(f'Original test ds contains duplicates: {test_orig.duplicated().any()}')"
   ],
   "metadata": {
    "collapsed": false,
    "ExecuteTime": {
     "end_time": "2023-10-08T14:00:01.861407700Z",
     "start_time": "2023-10-08T14:00:01.749409100Z"
    }
   },
   "id": "e9e4265dc4cfe2a1"
  },
  {
   "cell_type": "code",
   "execution_count": null,
   "outputs": [],
   "source": [
    "pipeline = Pipeline([\n",
    "    ('classifier', XGBClassifier())\n",
    "])\n",
    "\n",
    "param_grid = {\n",
    "    'classifier__n_estimators': [100,300,500,700,900,1000,1200],\n",
    "    'classifier__max_depth': [2,3,4,5],\n",
    "    'classifier__learning_rate': [0.0025,0.005,0.01,0.02]\n",
    "}\n",
    "\n",
    "grid_search = GridSearchCV(estimator=pipeline, param_grid=param_grid, cv=5, n_jobs=1, verbose=2, error_score=\"raise\",\n",
    "                           scoring='roc_auc')\n",
    "# colab\n",
    "# Best hyperparameters found:\n",
    "# {'classifier__learning_rate': 0.02, 'classifier__max_depth': 4, 'classifier__n_estimators': 700, 'classifier__subsample': 0.5}\n",
    "# Best cross-validation accuracy score: 0.79\n",
    "\n",
    "grid_search.fit(train_orig.drop(['defects'], axis=1), train_orig.defects)\n",
    "\n",
    "print(\"Best hyperparameters found:\")\n",
    "print(grid_search.best_params_)\n",
    "print(\"Best cross-validation accuracy score: {:.2f}\".format(grid_search.best_score_))\n",
    "\n",
    "# Evaluate the best model on the test data\n",
    "best_model = grid_search.best_estimator_"
   ],
   "metadata": {
    "collapsed": false
   },
   "id": "bc8f622244113f6c"
  },
  {
   "cell_type": "code",
   "execution_count": null,
   "outputs": [],
   "source": [
    "# result processing\n",
    "y_pred = best_model.predict_proba(test_orig)[:,1]\n",
    "submission = pd.Series(data=y_pred, index=test_orig.index, name='defects')\n",
    "submission.to_csv('solution-v1_0.csv')"
   ],
   "metadata": {
    "collapsed": false
   },
   "id": "f8894df49896a324"
  }
 ],
 "metadata": {
  "kernelspec": {
   "display_name": "Python 3",
   "language": "python",
   "name": "python3"
  },
  "language_info": {
   "codemirror_mode": {
    "name": "ipython",
    "version": 2
   },
   "file_extension": ".py",
   "mimetype": "text/x-python",
   "name": "python",
   "nbconvert_exporter": "python",
   "pygments_lexer": "ipython2",
   "version": "2.7.6"
  }
 },
 "nbformat": 4,
 "nbformat_minor": 5
}
